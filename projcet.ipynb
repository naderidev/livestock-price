{
 "cells": [
  {
   "cell_type": "markdown",
   "id": "f3044f46-1831-4731-a1ce-420961c7b279",
   "metadata": {},
   "source": [
    "## Importing packages"
   ]
  },
  {
   "cell_type": "code",
   "execution_count": 1,
   "id": "e0de1cf8-b46a-4f73-9f35-067d42bd2437",
   "metadata": {},
   "outputs": [],
   "source": [
    "import numpy as np\n",
    "import pandas as pd\n",
    "import matplotlib.pyplot as plt\n",
    "from scipy.optimize import curve_fit\n",
    "from sklearn.metrics import r2_score\n",
    "import jdatetime\n",
    "import math"
   ]
  },
  {
   "cell_type": "markdown",
   "id": "2ff8e653-075f-426f-b51e-7cd2d0507643",
   "metadata": {},
   "source": [
    "## Loading dataset"
   ]
  },
  {
   "cell_type": "code",
   "execution_count": 2,
   "id": "438a0ae6-94b1-4a51-aee8-1d961698df2a",
   "metadata": {},
   "outputs": [
    {
     "data": {
      "text/html": [
       "<div>\n",
       "<style scoped>\n",
       "    .dataframe tbody tr th:only-of-type {\n",
       "        vertical-align: middle;\n",
       "    }\n",
       "\n",
       "    .dataframe tbody tr th {\n",
       "        vertical-align: top;\n",
       "    }\n",
       "\n",
       "    .dataframe thead th {\n",
       "        text-align: right;\n",
       "    }\n",
       "</style>\n",
       "<table border=\"1\" class=\"dataframe\">\n",
       "  <thead>\n",
       "    <tr style=\"text-align: right;\">\n",
       "      <th></th>\n",
       "      <th>PROVINCE</th>\n",
       "      <th>PRICE</th>\n",
       "      <th>TYPE</th>\n",
       "      <th>YEAR</th>\n",
       "      <th>MONTH</th>\n",
       "      <th>DAY</th>\n",
       "      <th>INFLATION_RATE</th>\n",
       "    </tr>\n",
       "  </thead>\n",
       "  <tbody>\n",
       "    <tr>\n",
       "      <th>0</th>\n",
       "      <td>تهران</td>\n",
       "      <td>102500.0</td>\n",
       "      <td>گوسفند</td>\n",
       "      <td>1392</td>\n",
       "      <td>2</td>\n",
       "      <td>23</td>\n",
       "      <td>34.0</td>\n",
       "    </tr>\n",
       "    <tr>\n",
       "      <th>1</th>\n",
       "      <td>تهران</td>\n",
       "      <td>105000.0</td>\n",
       "      <td>گوساله</td>\n",
       "      <td>1392</td>\n",
       "      <td>2</td>\n",
       "      <td>23</td>\n",
       "      <td>34.0</td>\n",
       "    </tr>\n",
       "    <tr>\n",
       "      <th>2</th>\n",
       "      <td>اصفهان</td>\n",
       "      <td>100000.0</td>\n",
       "      <td>گوسفند</td>\n",
       "      <td>1392</td>\n",
       "      <td>2</td>\n",
       "      <td>23</td>\n",
       "      <td>34.0</td>\n",
       "    </tr>\n",
       "    <tr>\n",
       "      <th>3</th>\n",
       "      <td>اصفهان</td>\n",
       "      <td>100000.0</td>\n",
       "      <td>گوساله</td>\n",
       "      <td>1392</td>\n",
       "      <td>2</td>\n",
       "      <td>23</td>\n",
       "      <td>34.0</td>\n",
       "    </tr>\n",
       "    <tr>\n",
       "      <th>4</th>\n",
       "      <td>يزد</td>\n",
       "      <td>107500.0</td>\n",
       "      <td>گوسفند</td>\n",
       "      <td>1392</td>\n",
       "      <td>2</td>\n",
       "      <td>23</td>\n",
       "      <td>34.0</td>\n",
       "    </tr>\n",
       "  </tbody>\n",
       "</table>\n",
       "</div>"
      ],
      "text/plain": [
       "  PROVINCE     PRICE    TYPE  YEAR  MONTH  DAY  INFLATION_RATE\n",
       "0    تهران  102500.0  گوسفند  1392      2   23            34.0\n",
       "1    تهران  105000.0  گوساله  1392      2   23            34.0\n",
       "2   اصفهان  100000.0  گوسفند  1392      2   23            34.0\n",
       "3   اصفهان  100000.0  گوساله  1392      2   23            34.0\n",
       "4      يزد  107500.0  گوسفند  1392      2   23            34.0"
      ]
     },
     "execution_count": 2,
     "metadata": {},
     "output_type": "execute_result"
    }
   ],
   "source": [
    "df = pd.read_csv(\"scrapping/dataset.csv\")\n",
    "df.head()"
   ]
  },
  {
   "cell_type": "markdown",
   "id": "64a21da2-44ad-4e1f-a4b9-e5be217ed9f0",
   "metadata": {},
   "source": [
    "## Setting number for non continuous columns"
   ]
  },
  {
   "cell_type": "markdown",
   "id": "c3f963bb-c2c1-4f73-a2fe-9d033ecacf64",
   "metadata": {},
   "source": [
    "### Provinces"
   ]
  },
  {
   "cell_type": "code",
   "execution_count": 3,
   "id": "46ce7b8a-ff84-4502-b65d-ac16de1ab740",
   "metadata": {},
   "outputs": [
    {
     "data": {
      "text/plain": [
       "array([[1, 'تهران'],\n",
       "       [2, 'اصفهان'],\n",
       "       [3, 'يزد'],\n",
       "       [4, 'خراسان رضوی'],\n",
       "       [5, 'فارس'],\n",
       "       [6, 'اردبيل'],\n",
       "       [7, 'کردستان'],\n",
       "       [8, 'همدان'],\n",
       "       [9, 'قم'],\n",
       "       [10, 'سیستان و بلوچستان'],\n",
       "       [11, 'آذربايجان شرقي'],\n",
       "       [12, 'مرکزي'],\n",
       "       [13, 'چهارمحال بختياري'],\n",
       "       [14, 'آذربايجان غربي']], dtype=object)"
      ]
     },
     "execution_count": 3,
     "metadata": {},
     "output_type": "execute_result"
    }
   ],
   "source": [
    "_provinces = df.PROVINCE.unique()\n",
    "PROVINCES = np.stack( [ np.arange(1 , _provinces.size + 1) , _provinces ] , 1 )\n",
    "PROVINCES"
   ]
  },
  {
   "cell_type": "markdown",
   "id": "48ed413e-ed40-4032-a6a7-eeddea4ad249",
   "metadata": {},
   "source": [
    "### Types"
   ]
  },
  {
   "cell_type": "code",
   "execution_count": 4,
   "id": "fc1ce624-d78a-44ea-a4ba-a5004a8423b2",
   "metadata": {},
   "outputs": [
    {
     "data": {
      "text/plain": [
       "array([[1, 'گوسفند'],\n",
       "       [2, 'گوساله']], dtype=object)"
      ]
     },
     "execution_count": 4,
     "metadata": {},
     "output_type": "execute_result"
    }
   ],
   "source": [
    "_types = df.TYPE.unique()\n",
    "TYPES = np.stack( [ np.arange(1 , _types.size + 1), _types ], 1 )\n",
    "TYPES"
   ]
  },
  {
   "cell_type": "markdown",
   "id": "b31830f6-ce1f-4d46-9463-1b1236efa211",
   "metadata": {},
   "source": [
    "#### Placing Keys"
   ]
  },
  {
   "cell_type": "code",
   "execution_count": 5,
   "id": "da45f7e7-f5ea-4109-bd63-92ce706f6d42",
   "metadata": {},
   "outputs": [],
   "source": [
    "df.PROVINCE = df.PROVINCE.apply(lambda x: PROVINCES[np.where(PROVINCES == x)[0][0]][0])\n",
    "df.TYPE = df.TYPE.apply(lambda x: TYPES[np.where(TYPES == x)[0][0]][0])"
   ]
  },
  {
   "cell_type": "markdown",
   "id": "c8bb2173-d329-4f79-8e70-87af067a37c9",
   "metadata": {},
   "source": [
    "# An Idea : Converting YEAR,MONTH,DAY to a new parameter"
   ]
  },
  {
   "cell_type": "code",
   "execution_count": 6,
   "id": "5dcf7191-90fb-4e76-a17c-0daed27c0740",
   "metadata": {},
   "outputs": [
    {
     "data": {
      "text/html": [
       "<div>\n",
       "<style scoped>\n",
       "    .dataframe tbody tr th:only-of-type {\n",
       "        vertical-align: middle;\n",
       "    }\n",
       "\n",
       "    .dataframe tbody tr th {\n",
       "        vertical-align: top;\n",
       "    }\n",
       "\n",
       "    .dataframe thead th {\n",
       "        text-align: right;\n",
       "    }\n",
       "</style>\n",
       "<table border=\"1\" class=\"dataframe\">\n",
       "  <thead>\n",
       "    <tr style=\"text-align: right;\">\n",
       "      <th></th>\n",
       "      <th>PROVINCE</th>\n",
       "      <th>PRICE</th>\n",
       "      <th>TYPE</th>\n",
       "      <th>INFLATION_RATE</th>\n",
       "      <th>DATE</th>\n",
       "    </tr>\n",
       "  </thead>\n",
       "  <tbody>\n",
       "    <tr>\n",
       "      <th>0</th>\n",
       "      <td>1</td>\n",
       "      <td>102500.0</td>\n",
       "      <td>1</td>\n",
       "      <td>34.0</td>\n",
       "      <td>1.368391e+09</td>\n",
       "    </tr>\n",
       "    <tr>\n",
       "      <th>1</th>\n",
       "      <td>1</td>\n",
       "      <td>105000.0</td>\n",
       "      <td>2</td>\n",
       "      <td>34.0</td>\n",
       "      <td>1.368391e+09</td>\n",
       "    </tr>\n",
       "    <tr>\n",
       "      <th>2</th>\n",
       "      <td>2</td>\n",
       "      <td>100000.0</td>\n",
       "      <td>1</td>\n",
       "      <td>34.0</td>\n",
       "      <td>1.368391e+09</td>\n",
       "    </tr>\n",
       "    <tr>\n",
       "      <th>3</th>\n",
       "      <td>2</td>\n",
       "      <td>100000.0</td>\n",
       "      <td>2</td>\n",
       "      <td>34.0</td>\n",
       "      <td>1.368391e+09</td>\n",
       "    </tr>\n",
       "    <tr>\n",
       "      <th>4</th>\n",
       "      <td>3</td>\n",
       "      <td>107500.0</td>\n",
       "      <td>1</td>\n",
       "      <td>34.0</td>\n",
       "      <td>1.368391e+09</td>\n",
       "    </tr>\n",
       "  </tbody>\n",
       "</table>\n",
       "</div>"
      ],
      "text/plain": [
       "   PROVINCE     PRICE  TYPE  INFLATION_RATE          DATE\n",
       "0         1  102500.0     1            34.0  1.368391e+09\n",
       "1         1  105000.0     2            34.0  1.368391e+09\n",
       "2         2  100000.0     1            34.0  1.368391e+09\n",
       "3         2  100000.0     2            34.0  1.368391e+09\n",
       "4         3  107500.0     1            34.0  1.368391e+09"
      ]
     },
     "execution_count": 6,
     "metadata": {},
     "output_type": "execute_result"
    }
   ],
   "source": [
    "cdf = df[[\"PROVINCE\" , \"PRICE\" , \"TYPE\" , \"INFLATION_RATE\"]].assign(\n",
    "    DATE=np.array([jdatetime.datetime(*row[1]).timestamp()  for row in df[ [ \"YEAR\" , \"MONTH\" , \"DAY\" ] ].iterrows() ])\n",
    ")\n",
    "cdf.head()"
   ]
  },
  {
   "cell_type": "markdown",
   "id": "2dc490ab-510c-4d89-9fff-965ef0e30b88",
   "metadata": {},
   "source": [
    "## Data for Spetefic PROVINCE and TYPE"
   ]
  },
  {
   "cell_type": "code",
   "execution_count": 7,
   "id": "854e161e-bc81-49a6-88fd-cd3e79fca19e",
   "metadata": {},
   "outputs": [],
   "source": [
    "fars_cow = cdf[(cdf.PROVINCE == 5) & (cdf.TYPE == 2)]"
   ]
  },
  {
   "cell_type": "markdown",
   "id": "30f9113a-05bd-4731-95e1-4bccaa0c1c0b",
   "metadata": {},
   "source": [
    "### Making Test and Train Data"
   ]
  },
  {
   "cell_type": "code",
   "execution_count": 8,
   "id": "319d545c-d3c2-411f-adfa-e8896a3a2524",
   "metadata": {},
   "outputs": [],
   "source": [
    "mask = np.random.rand(len(fars_cow)) < 0.8\n",
    "train = fars_cow[mask]\n",
    "test = fars_cow[~mask]\n",
    "\n",
    "train_x_data = train.DATE * (10**-8)\n",
    "train_y_data = train.PRICE * (10**-8)\n",
    "\n",
    "test_x_data = test.DATE * (10**-8)\n",
    "test_y_data = test.PRICE * (10**-8)"
   ]
  },
  {
   "cell_type": "markdown",
   "id": "1c38d3bb-c04d-45a5-bfbe-c8393ef43838",
   "metadata": {},
   "source": [
    "# Ploting Data"
   ]
  },
  {
   "cell_type": "code",
   "execution_count": 9,
   "id": "9eba1bbd-7ae4-44dd-9de2-9892743e9969",
   "metadata": {},
   "outputs": [
    {
     "data": {
      "text/plain": [
       "<matplotlib.collections.PathCollection at 0x1d1ba343dd0>"
      ]
     },
     "execution_count": 9,
     "metadata": {},
     "output_type": "execute_result"
    },
    {
     "data": {
      "image/png": "[encoded data removed]",
      "text/plain": [
       "<Figure size 640x480 with 1 Axes>"
      ]
     },
     "metadata": {},
     "output_type": "display_data"
    }
   ],
   "source": [
    "fig = plt.figure()\n",
    "ax = fig.add_subplot(111)\n",
    "ax.scatter(train_x_data, train_y_data, color=\"blue\")"
   ]
  },
  {
   "cell_type": "markdown",
   "id": "1dc82dc8-bcbc-4323-b743-04b34c460b31",
   "metadata": {},
   "source": [
    "# Modeling"
   ]
  },
  {
   "cell_type": "code",
   "execution_count": 10,
   "id": "6d0761ee-cb8e-4f8a-8631-bef7741c12d3",
   "metadata": {},
   "outputs": [],
   "source": [
    "g = np.polyfit(np.exp(train_x_data) , train_y_data , 1)\n",
    "predicted_values = g[0] * np.exp(train_x_data) + g[1]"
   ]
  },
  {
   "cell_type": "code",
   "execution_count": 11,
   "id": "7739e22b-e9f5-42d5-8352-cc8590d46653",
   "metadata": {},
   "outputs": [
    {
     "data": {
      "text/plain": [
       "[<matplotlib.lines.Line2D at 0x1d1ba413110>]"
      ]
     },
     "execution_count": 11,
     "metadata": {},
     "output_type": "execute_result"
    },
    {
     "data": {
      "image/png": "[encoded data removed]",
      "text/plain": [
       "<Figure size 800x500 with 1 Axes>"
      ]
     },
     "metadata": {},
     "output_type": "display_data"
    }
   ],
   "source": [
    "plt.figure(figsize=(8,5))\n",
    "plt.scatter(train_x_data, train_y_data, color=\"red\")\n",
    "plt.plot(train_x_data, predicted_values , color=\"blue\")"
   ]
  },
  {
   "cell_type": "markdown",
   "id": "11c8dbea-0b20-4a9f-be7d-cd0a98d3da39",
   "metadata": {},
   "source": [
    "# Results"
   ]
  },
  {
   "cell_type": "code",
   "execution_count": 12,
   "id": "2de3cb60-c56d-40e4-b7a4-f36598e169a3",
   "metadata": {},
   "outputs": [
    {
     "name": "stdout",
     "output_type": "stream",
     "text": [
      "The R^2 Score is: 0.91\n"
     ]
    }
   ],
   "source": [
    "r2 = r2_score(test_y_data, g[0] * np.exp(test_x_data) + g[1])\n",
    "print(\"The R^2 Score is: %0.2f\" % r2)"
   ]
  },
  {
   "cell_type": "code",
   "execution_count": 13,
   "id": "655abead-d965-4331-b2fc-604c7a313563",
   "metadata": {},
   "outputs": [],
   "source": [
    "mae_error = (np.abs(predicted_values - train_y_data).sum() / len(predicted_values))* (10**8)\n",
    "def guess_the_price(y,m,d) -> int:\n",
    "    return (g[0] * math.exp(jdatetime.datetime(y,m,d).timestamp() * (10**-8) ) + g[1]) * (10**8)"
   ]
  },
  {
   "cell_type": "code",
   "execution_count": 14,
   "id": "570a5edd-4a11-49e9-8a72-9f89e7162e71",
   "metadata": {},
   "outputs": [
    {
     "name": "stdout",
     "output_type": "stream",
     "text": [
      "Price FROM (IRT): 171839\n",
      "Price Close To (IRT): 182702\n",
      "Price To (IRT): 193565\n"
     ]
    }
   ],
   "source": [
    "predict = guess_the_price(1403,4,30)\n",
    "print(\"Price FROM (IRT): %d\" % (predict * 0.1 - mae_error * 0.1))\n",
    "print(\"Price Close To (IRT): %d\" % (predict * 0.1))\n",
    "print(\"Price To (IRT): %d\" % (predict * 0.1 + mae_error * 0.1))"
   ]
  }
 ],
 "metadata": {
  "kernelspec": {
   "display_name": "Python 3 (ipykernel)",
   "language": "python",
   "name": "python3"
  },
  "language_info": {
   "codemirror_mode": {
    "name": "ipython",
    "version": 3
   },
   "file_extension": ".py",
   "mimetype": "text/x-python",
   "name": "python",
   "nbconvert_exporter": "python",
   "pygments_lexer": "ipython3",
   "version": "3.11.5"
  }
 },
 "nbformat": 4,
 "nbformat_minor": 5
}
